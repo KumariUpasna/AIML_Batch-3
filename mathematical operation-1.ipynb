{
 "cells": [
  {
   "cell_type": "code",
   "execution_count": 3,
   "metadata": {},
   "outputs": [
    {
     "name": "stdout",
     "output_type": "stream",
     "text": [
      "[ 6 14 32 45]\n",
      "[0.16666667 0.28571429 0.5        0.55555556]\n",
      "[      1     128   65536 1953125]\n"
     ]
    }
   ],
   "source": [
    "import numpy as np\n",
    "import pandas as pd\n",
    "array1 =np.array([1,2,4,5])\n",
    "array2 =np.array([6,7,8,9])\n",
    "result1 = np.multiply(array1,array2)\n",
    "print(result1)\n",
    "\n",
    "result2 = np.divide(array1,array2)\n",
    "print(result2)\n",
    "\n",
    "result3 = np.power(array1,array2)\n",
    "print(result3)"
   ]
  }
 ],
 "metadata": {
  "kernelspec": {
   "display_name": "Python 3",
   "language": "python",
   "name": "python3"
  },
  "language_info": {
   "codemirror_mode": {
    "name": "ipython",
    "version": 3
   },
   "file_extension": ".py",
   "mimetype": "text/x-python",
   "name": "python",
   "nbconvert_exporter": "python",
   "pygments_lexer": "ipython3",
   "version": "3.10.13"
  }
 },
 "nbformat": 4,
 "nbformat_minor": 2
}
