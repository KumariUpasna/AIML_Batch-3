{
 "cells": [
  {
   "cell_type": "code",
   "execution_count": 2,
   "metadata": {},
   "outputs": [
    {
     "ename": "NameError",
     "evalue": "name 'array1' is not defined",
     "output_type": "error",
     "traceback": [
      "\u001b[0;31m---------------------------------------------------------------------------\u001b[0m",
      "\u001b[0;31mNameError\u001b[0m                                 Traceback (most recent call last)",
      "Cell \u001b[0;32mIn[2], line 1\u001b[0m\n\u001b[0;32m----> 1\u001b[0m \u001b[38;5;28mprint\u001b[39m(\u001b[38;5;124m\"\u001b[39m\u001b[38;5;124marray2 multiplied by array1: \u001b[39m\u001b[38;5;124m\"\u001b[39m,\u001b[43marray1\u001b[49m\u001b[38;5;241m*\u001b[39marray2)\n\u001b[1;32m      2\u001b[0m \u001b[38;5;28mprint\u001b[39m(\u001b[38;5;124m\"\u001b[39m\u001b[38;5;124marray2 divided by array1: \u001b[39m\u001b[38;5;124m\"\u001b[39m,array2\u001b[38;5;241m/\u001b[39marray1)\n\u001b[1;32m      3\u001b[0m \u001b[38;5;28mprint\u001b[39m(\u001b[38;5;124m\"\u001b[39m\u001b[38;5;124marray2 raised to the power of array1: \u001b[39m\u001b[38;5;124m\"\u001b[39m,array2\u001b[38;5;241m*\u001b[39m\u001b[38;5;241m*\u001b[39marray1)\n",
      "\u001b[0;31mNameError\u001b[0m: name 'array1' is not defined"
     ]
    }
   ],
   "source": [
    "print(\"array2 multiplied by array1: \",array1*array2)\n",
    "print(\"array2 divided by array1: \",array2/array1)\n",
    "print(\"array2 raised to the power of array1: \",array2**array1)\n",
    "# sine function\n",
    "print(\"Sine: \",np.sin(array1))\n",
    "# logarithm\n",
    "print(\"Natural logarithm: \",np.log(array1))\n",
    "print(\"Base-10 logarithm: \",np.log10(array1))\n",
    "print(\"Base-2 logarithm: \",np.log2(array1))\n",
    "# Exponential\n",
    "print(\"Exponential: \",np.exp(array1))\n",
    "list2=[3,2,1]\n",
    "array2=np.array(list2)\n",
    "array2\n",
    "print(\"Adding two numpy arrays {array1} and {array2} together:\", array1+array2)\n",
    "print(f\"Adding two numpy arrays {array1} and {array2} together: {array1+array2}\")"
   ]
  }
 ],
 "metadata": {
  "kernelspec": {
   "display_name": "Python 3",
   "language": "python",
   "name": "python3"
  },
  "language_info": {
   "codemirror_mode": {
    "name": "ipython",
    "version": 3
   },
   "file_extension": ".py",
   "mimetype": "text/x-python",
   "name": "python",
   "nbconvert_exporter": "python",
   "pygments_lexer": "ipython3",
   "version": "3.10.13"
  }
 },
 "nbformat": 4,
 "nbformat_minor": 2
}
